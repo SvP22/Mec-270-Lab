{
 "cells": [
  {
   "cell_type": "markdown",
   "id": "70235975-7602-4e88-ac4c-4725270d36bd",
   "metadata": {},
   "source": [
    "![image](https://mecanica.usm.cl/wp-content/uploads/2021/12/logo-mecanica.png)"
   ]
  },
  {
   "cell_type": "markdown",
   "id": "1e8718eb-3a8e-4b23-a5be-f08fb72ac22b",
   "metadata": {},
   "source": [
    "# Laboratorio 2: Interpolacion de funciones\n"
   ]
  },
  {
   "cell_type": "markdown",
   "id": "235d8978-be43-4b0f-a890-a4fbb2198e0b",
   "metadata": {},
   "source": [
    "## 1.- Repaso de la Teoria"
   ]
  },
  {
   "cell_type": "markdown",
   "id": "503ff00d-4c08-49d3-98e3-336a98a30a5b",
   "metadata": {},
   "source": [
    "En esta sesion de laboratorio, repasaremos los conceptos vistos en clases sobre la interpolacion de datos y funciones.\n",
    "\n",
    "Como vimos en clases, muchas veces no contamos con una funcion explicita que nos permita calcular el valor de una variable en un punto dado, o bien extraer informacion de un conjunto de datos como por ejemplo, tasas de cambio, tasas de creciciento, integrales, etc. En estos casos, la interpolacion de funciones nos permite obtener una funcion que se ajuste a los datos que tenemos, y que nos permita calcular valores en puntos intermedios a los datos que tenemos.\n",
    "\n",
    "En este laboratorio, veremos como encontrar funciones interpolantes en Python, utilizando algunas librerias que nos permiten hacerlo de manera sencilla.\n",
    "\n",
    "Para ello, comenzaremos repasando algunos conceptos claves de la interpolacion de funciones.\n",
    "\n",
    "Supongamos que contamos con un listado '$n$' mediciones de una variable $(y_{1}, y_{2}, y_{3}, \\dots, y_{n})$ muestreadas en los puntos $(x_{1}, x_{2}, x_{3}, \\dots, x_{n})$ al interior del intervalo $[a,b]$.\n",
    "\n",
    "<p align=\"center\">\n",
    "  <img src=\"./Images/scatter-inv.svg\" />\n",
    "</p>\n",
    "\n",
    "El primer paso para construir la funcion interpolante consiste en definir la base de funciones ${\\phi_1, \\phi_2, \\dots, \\phi_n}$ que utilizaremos para construir el espacio funcional $\\mathbb{P}_{n-1}$ que contiene a nuestra funcion.\n",
    "Con la base de funciones definidas, podemos escribir nuestra funcion interpolante $P_{n-1}$ como una combinacion lineal de las funciones de la base:\n",
    "\n",
    "\\begin{equation}\n",
    "    P_{n-1} = \\sum_{i=1}^{i} \\phi_{i}(x) a_{i}\n",
    "\\end{equation}\n",
    "\n",
    "donde $a_{i}$ corresponden a los $n$ coeficientes de la combinacion lineal de las funciones $\\phi_{i}$ que debemos determinar. Como la funcion interpolante debe cumplir con la condicion de pasar exactamente por cada uno de los puntos de la muestra, podemos plantear un sistema lineal de $n$ ecuaciones como sigue:\n",
    "\n",
    "\\begin{eqnarray}\n",
    "    a_{1}\\phi_{1}(x_1) + a_{2}\\phi_{2}(x_1) + &\\dots& + a_{n}\\phi_{n}(x_1) &=& y_{1} \\\\\n",
    "    a_{1}\\phi_{1}(x_2) + a_{2}\\phi_{2}(x_2) + &\\dots& + a_{n}\\phi_{n}(x_2) &=& y_{2} \\\\\n",
    "    a_{1}\\phi_{1}(x_3) + a_{2}\\phi_{2}(x_3) + &\\dots& + a_{n}\\phi_{n}(x_3) &=& y_{3} \\\\\n",
    "     &\\vdots& &=& \\vdots \\\\\n",
    "    a_{1}\\phi_{1}(x_n) + a_{2}\\phi_{2}(x_n) + &\\dots& + a_{n}\\phi_{n}(x_n) &=& y_{n} \\\\\n",
    "\\end{eqnarray}\n",
    "\n",
    "que puede ser escrito en formulacion matricial $\\mathbf{A} \\vec{a} = \\vec{y}$\n",
    "\n",
    "\\begin{equation}\n",
    "    \\begin{bmatrix}\n",
    "        \\phi_{1}(x_1) & \\phi_{2}(x_1) & \\dots & \\phi_{n}(x_1) \\\\\n",
    "        \\phi_{1}(x_2) & \\phi_{2}(x_2) & \\dots & \\phi_{n}(x_2) \\\\\n",
    "        \\vdots        & \\vdots        & \\dots & \\vdots \\\\\n",
    "        \\phi_{1}(x_n) & \\phi_{2}(x_n) & \\dots & \\phi_{n}(x_n)\n",
    "    \\end{bmatrix}\n",
    "    \\begin{bmatrix}\n",
    "        a_{1} \\\\\n",
    "        a_{2} \\\\\n",
    "        \\vdots \\\\\n",
    "        a_{n} \\\\\n",
    "    \\end{bmatrix}\n",
    "    =\n",
    "    \\begin{bmatrix}\n",
    "        y_{1} \\\\\n",
    "        y_{2} \\\\\n",
    "        \\vdots \\\\\n",
    "        y_{m} \\\\\n",
    "    \\end{bmatrix}\n",
    "\\end{equation}\n",
    "Finalmente, para encontrar los coeficientes de la combinacion lineal basta con resolver este sistema\n",
    "\\begin{equation}\n",
    "    \\vec{a} = \\mathbf{A}^{-1}\\vec{y}\n",
    "\\end{equation}\n",
    "***Nota:*** Para resolver el sistema lineal nos ayudaremos de librerias especializadas en algebra lineal como ***scipy***\n",
    "\n",
    "```\n",
    "from scipy import linalg\n",
    "a = linalg.solve(A,y)\n",
    "```"
   ]
  },
  {
   "cell_type": "markdown",
   "id": "9180980d-9b21-4fa1-bf66-3e9899692374",
   "metadata": {},
   "source": [
    "## 2.- Ejercicio: Desgaste en recubrimiento de molino "
   ]
  },
  {
   "cell_type": "markdown",
   "id": "06750f79-03bc-4c68-afb6-ef483e9abe48",
   "metadata": {},
   "source": [
    "En la industria minera, uno de los equipos criticos en la linea productiva son los molinos de bola que se utilizan para la molienda de minerales. Estos molinos estan recubiertos internamente por placas de distintos materiales, las cuales cumplen principalmente dos roles: primero permiten elevar las bolas y generar las colisiones con el mineral y en segunda instancia proteger el cuerpo del molino del desgaste producido por el proceso de molienda.\n",
    "\n",
    "<p align=\"center\">\n",
    "  <img src=\"https://www.edipesa.com.pe/images/stories/virtuemart/category/molino-bolas.jpg\" />\n",
    "</p>\n",
    "<p align=\"center\">\n",
    "  <img src=\"https://www.inbelt.com.ar/resources/original/productos/minera/revestimientos_molinos/revestimientos_molinos02.jpg\" />\n",
    "</p>\n",
    "\n",
    "\n",
    "Producto de la operacion normal de estos equipos y el ambiente abrasivo en el que se encuentran, estas placas sufren un desgaste que se manifiesta como una disminucion en el espesor. Este desgaste es medido periodicamente por el personal de mantencion del molino, y se utiliza para planificar la mantencion de los equipos.\n",
    "El objetivo de este laboratorio es construir una funcion que nos permita estimar el desgaste de una de estas placas en un molino de bola, a partir de mediciones realizadas en terreno.\n",
    "\n",
    "<p align=\"center\">\n",
    "  <img src=\"./Images/perfilTeorico-inv.svg\" />\n",
    "</p>\n"
   ]
  },
  {
   "cell_type": "code",
   "execution_count": null,
   "id": "49ade5df-f202-4359-8c78-e32cd4b113f0",
   "metadata": {},
   "outputs": [],
   "source": [
    "def perfilTeorico(x_,A_,l_,e_,f_=1):\n",
    "    ''' Perfil Teorico de la pieza sin desgaste.\n",
    "    Inputs:\n",
    "        x_ (float32):        Coordenada 'x'.\n",
    "        A_ (float32):        Altura de la pieza.\n",
    "        l_ (float32):        Largo de la pieza.\n",
    "        e_ (float32):        Largo del diente.\n",
    "        f_ (float32):        Factor de forma del diente.\n",
    "    Output:\n",
    "        h (float32):         Altura de la pieza evaluada en 'x'.\n",
    "    '''\n",
    "    h = A_/3 + A_*2/3*(0.5*numpy.tanh(f_*(x_-(l_-e_)/2)) - 0.5*numpy.tanh(f_*(x_-(l_+e_)/2)))\n",
    "    return h"
   ]
  },
  {
   "cell_type": "code",
   "execution_count": null,
   "id": "4e3d0eea-67e3-475e-b975-61af755674e2",
   "metadata": {},
   "outputs": [],
   "source": [
    "import numpy\n",
    "\n",
    "data = numpy.loadtxt('Data/desgaste-Equi21.csv',delimiter=',',skiprows=1)\n",
    "xMed = data[:,0]\n",
    "yMed = data[:,1]\n",
    "\n",
    "print('Puntos de medicion: {}'.format(xMed))\n",
    "print('Altura medida: {}'.format(yMed))"
   ]
  },
  {
   "cell_type": "code",
   "execution_count": null,
   "id": "d76d8d76-c615-4d2a-b3a7-af4bcc992b6d",
   "metadata": {},
   "outputs": [],
   "source": [
    "from matplotlib import pyplot\n",
    "def plot(x_,y_,xMed_,yMed_):\n",
    "    ''' Grafico del polinomio de interpolacion junto con los puntos de medicion.\n",
    "    Inputs:\n",
    "        x_    (array float32)        Coordenadas del eje x\n",
    "        y_    (array float32)        f(x)\n",
    "        xMed_ (array float32)        Coodenadas 'x' de los datos medidos\n",
    "        yMed_ (array float32)        Coodenadas 'y' de los datos medidos\n",
    "    output:\n",
    "        void\n",
    "    '''\n",
    "    pyplot.xlabel('x')\n",
    "    pyplot.ylabel('y')\n",
    "    pyplot.plot(x_,y_,label='Perfil teorico',color='k')\n",
    "    pyplot.scatter(xMed_,yMed_,label='Perfil con desgaste',color='r')\n",
    "    pyplot.legend()\n",
    "    pyplot.grid()\n",
    "    pyplot.show()\n",
    "    return\n"
   ]
  },
  {
   "cell_type": "markdown",
   "id": "d4780c82-5297-408e-a87d-2f8630aa7358",
   "metadata": {},
   "source": [
    "### 2.1.- Interpolacion por monomios"
   ]
  },
  {
   "cell_type": "code",
   "execution_count": null,
   "id": "48413f71-abca-47c1-9143-adc58c6845e6",
   "metadata": {},
   "outputs": [],
   "source": [
    "### def baseMonomios(n_):\n",
    "###     return base\n",
    "###\n",
    "### def matrizIntpMonomios(base_)\n",
    "###     return A\n",
    "###\n",
    "### def intpMonomios(x_,base_,coef_)\n",
    "###     return y\n",
    "###\n",
    "### coef = linalg.solve(A,y)\n",
    "### \n",
    "### plot(x,y,xMed,yMed)"
   ]
  },
  {
   "cell_type": "markdown",
   "id": "bbacbf36-35f8-4332-ad81-49f31fe7a257",
   "metadata": {},
   "source": [
    "### 2.2.-  Interpolacion de Lagrange"
   ]
  },
  {
   "cell_type": "code",
   "execution_count": null,
   "id": "618c74b9-c068-43db-9e39-cc8061674443",
   "metadata": {},
   "outputs": [],
   "source": [
    "### def baseLagrange(xMed_):\n",
    "###     return base\n",
    "###\n",
    "### def matrizIntpLagrange(base_)\n",
    "###     return A\n",
    "###\n",
    "### def intpLagrange(x_,base_,coef_)\n",
    "###     return y\n",
    "###\n",
    "### coef = linalg.solve(A,y)\n",
    "###\n",
    "### plot(x,y,xMed,yMed)"
   ]
  },
  {
   "cell_type": "markdown",
   "id": "2940c4a0-46fc-4740-b481-c2f684de0738",
   "metadata": {},
   "source": [
    "### 2.3.- Interpolacion de Chebyshev"
   ]
  },
  {
   "cell_type": "code",
   "execution_count": null,
   "id": "6aba2af9-3668-4a34-af2c-d88a87c947ad",
   "metadata": {},
   "outputs": [],
   "source": [
    "### def baseChebyshev(n_):\n",
    "###     return base\n",
    "###\n",
    "### def matrizIntpChebyshev(base_)\n",
    "###     return A\n",
    "###\n",
    "### def intpChebyshev(x_,base_,coef_)\n",
    "###     return y\n",
    "###\n",
    "### coef = linalg.solve(A,y)\n",
    "###\n",
    "### plot(x,y,xMed,yMed)"
   ]
  },
  {
   "cell_type": "markdown",
   "id": "81d187f4-7169-4586-bdc3-4928fbdbc63d",
   "metadata": {},
   "source": [
    "### 2.4.- Extra: Interpolacion \"especial\" de Lagrange"
   ]
  },
  {
   "cell_type": "markdown",
   "id": "087852d3-9a40-4c34-a113-68399db80ef2",
   "metadata": {},
   "source": [
    "Con las funciones utilizadas previamente para construir el polonomio de interpolacion de lagrange, calcule nuevamente la base funcional $\\{\\phi_{i}\\}$ pero esta vez definida sobre los nodos \"especiales\" ```xMed2```. Veremos mas adelante en el curso el por elegimos estos puntos especiales para realizar las mediciones, pero de momento nos quedaremos con que estos presentan ciertas propiedades especiales. Grafique estos nodos sobre la recta del eje 'x' y evalue el perfil teorico en estos. ¿Que observamos?"
   ]
  },
  {
   "cell_type": "code",
   "execution_count": null,
   "id": "ee51b597-8de2-4e9b-a3bf-3a35760ef5d1",
   "metadata": {},
   "outputs": [],
   "source": [
    "import numpy\n",
    "\n",
    "data = numpy.loadtxt('Data/desgaste-Leg21.csv',delimiter=',',skiprows=1)\n",
    "xMed2 = data[:,0]\n",
    "yMed2 = data[:,1]\n",
    "\n",
    "print('Puntos de medicion: {}'.format(xMed2))\n",
    "print('Altura medida: {}'.format(yMed2))\n"
   ]
  },
  {
   "cell_type": "markdown",
   "id": "0957d08d-7977-498b-aeac-f9b7f3988748",
   "metadata": {},
   "source": [
    "Grafique en la misma figura, el polonomio de interpolacion que teniamos anteriormente cuando utilizamos los puntos de medicion ```xMed``` y los nuevos puntos ```xMed2```. ¿Que diferencias observa?"
   ]
  },
  {
   "cell_type": "code",
   "execution_count": null,
   "id": "9ce3f01f-8a56-4c60-a016-a470f9d0f094",
   "metadata": {},
   "outputs": [],
   "source": []
  }
 ],
 "metadata": {
  "kernelspec": {
   "display_name": "Python 3 (ipykernel)",
   "language": "python",
   "name": "python3"
  },
  "language_info": {
   "codemirror_mode": {
    "name": "ipython",
    "version": 3
   },
   "file_extension": ".py",
   "mimetype": "text/x-python",
   "name": "python",
   "nbconvert_exporter": "python",
   "pygments_lexer": "ipython3",
   "version": "3.13.2"
  }
 },
 "nbformat": 4,
 "nbformat_minor": 5
}
